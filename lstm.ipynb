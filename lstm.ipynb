{
  "nbformat": 4,
  "nbformat_minor": 0,
  "metadata": {
    "colab": {
      "name": "lstm.ipynb",
      "provenance": [],
      "authorship_tag": "ABX9TyPPEGTo3ZCejspmMN2wTndy",
      "include_colab_link": true
    },
    "kernelspec": {
      "name": "python3",
      "display_name": "Python 3"
    },
    "language_info": {
      "name": "python"
    }
  },
  "cells": [
    {
      "cell_type": "markdown",
      "metadata": {
        "id": "view-in-github",
        "colab_type": "text"
      },
      "source": [
        "<a href=\"https://colab.research.google.com/github/yi-ye-zhi-qiu/kitchensoundscapes/blob/main/lstm.ipynb\" target=\"_parent\"><img src=\"https://colab.research.google.com/assets/colab-badge.svg\" alt=\"Open In Colab\"/></a>"
      ]
    },
    {
      "cell_type": "code",
      "metadata": {
        "colab": {
          "base_uri": "https://localhost:8080/"
        },
        "id": "b34DNWzs1B1z",
        "outputId": "92bfc811-f7c4-41b2-9942-942d13bd9e3e"
      },
      "source": [
        "from google.colab import drive\n",
        "drive.mount(\"/content/drive\")"
      ],
      "execution_count": 1,
      "outputs": [
        {
          "output_type": "stream",
          "text": [
            "Mounted at /content/drive\n"
          ],
          "name": "stdout"
        }
      ]
    },
    {
      "cell_type": "code",
      "metadata": {
        "id": "mCI1K6RYz5mt"
      },
      "source": [
        "import numpy as np\n",
        "import os\n",
        "from music21 import converter, instrument, note, chord, stream\n",
        "from keras.models import Sequential\n",
        "from keras.layers import Dense\n",
        "from keras.layers import Dropout\n",
        "from keras.layers import LSTM\n",
        "from keras.layers import Activation\n",
        "from keras.layers import BatchNormalization as BatchNorm\n",
        "from keras.utils import np_utils\n",
        "from keras.callbacks import ModelCheckpoint\n",
        "from keras.callbacks import *\n",
        "from keras.optimizers import RMSprop "
      ],
      "execution_count": 2,
      "outputs": []
    },
    {
      "cell_type": "markdown",
      "metadata": {
        "id": "UM3nYi0C2zht"
      },
      "source": [
        "# Get Notes"
      ]
    },
    {
      "cell_type": "code",
      "metadata": {
        "colab": {
          "base_uri": "https://localhost:8080/"
        },
        "id": "SSWcuMvm21iu",
        "outputId": "d7cbc012-393d-4dc1-b7b7-ebfc0c7e0a93"
      },
      "source": [
        "def get_notes():\n",
        "    path='/content/drive/My Drive/notebooks/music/training_songs'\n",
        "    notes = []\n",
        "\n",
        "    for filename in os.listdir(path):\n",
        "          file = path + \"/\" + filename\n",
        "          print(\"Parsing\", file)\n",
        "        \n",
        "          midi = converter.parse(file)\n",
        "          need_parse = midi.flat.notes\n",
        "\n",
        "          for i in need_parse:\n",
        "            if isinstance(i, note.Note):\n",
        "                notes.append(str(i.pitch))\n",
        "            elif isinstance(i, chord.Chord):\n",
        "                notes.append('.'.join(str(n) for n in i.normalOrder))\n",
        "    return notes\n",
        "n = get_notes()\n"
      ],
      "execution_count": 17,
      "outputs": [
        {
          "output_type": "stream",
          "text": [
            "Parsing /content/drive/My Drive/notebooks/music/training_songs/breadknife.mid\n"
          ],
          "name": "stdout"
        }
      ]
    },
    {
      "cell_type": "markdown",
      "metadata": {
        "id": "D1E6XLnY12XB"
      },
      "source": [
        "# Train LSTM"
      ]
    },
    {
      "cell_type": "code",
      "metadata": {
        "id": "DnmZWmhQ0E2u"
      },
      "source": [
        "def prepare_sequences(notes, n_vocab):\n",
        "    \"\"\" Prepare the sequences used by the Neural Network \"\"\"\n",
        "    sequence_length = 5\n",
        "    print('Sequence length (window) used', sequence_length)\n",
        "\n",
        "    pitchnames = sorted(set(item for item in notes))\n",
        "    note_to_int = dict((note, number) for number, note in enumerate(pitchnames))\n",
        "    print('Dict created note->int', note_to_int)\n",
        "\n",
        "    network_input = []\n",
        "    network_output = []\n",
        "\n",
        "    # create input sequences and the corresponding outputs\n",
        "    for i in range(0, len(notes) - sequence_length, 1):\n",
        "        sequence_in = notes[i:i + sequence_length]\n",
        "        sequence_out = notes[i + sequence_length]\n",
        "        network_input.append([note_to_int[char] for char in sequence_in])\n",
        "        network_output.append(note_to_int[sequence_out])\n",
        "\n",
        "    n_patterns = len(network_input)\n",
        "\n",
        "    # reshape the input into a format compatible with LSTM layers\n",
        "    network_input = np.reshape(network_input, (n_patterns, sequence_length, 1))\n",
        "    # normalize input\n",
        "    network_input = network_input / float(n_vocab)\n",
        "    print('Glance @ input', network_input[1:10])\n",
        "\n",
        "    network_output = np_utils.to_categorical(network_output)\n",
        "    print('Glance @ output', network_output[1:10])\n",
        "\n",
        "    return (network_input, network_output)"
      ],
      "execution_count": 18,
      "outputs": []
    },
    {
      "cell_type": "code",
      "metadata": {
        "id": "7pOFpMKM0Ey_"
      },
      "source": [
        "def create_network(network_input, n_vocab):\n",
        "    \"\"\" create the structure of the neural network \"\"\"\n",
        "    print('Creating structure of LSTM')\n",
        "    model = Sequential()\n",
        "    model.add(LSTM(\n",
        "        100,\n",
        "        input_shape=(network_input.shape[1], network_input.shape[2]),\n",
        "        recurrent_dropout=0.7,\n",
        "        return_sequences=True\n",
        "    ))\n",
        "    model.add(LSTM(100))\n",
        "    model.add(BatchNorm())\n",
        "    model.add(Dropout(0.3))\n",
        "    model.add(Dense(256))\n",
        "    model.add(Activation('relu'))\n",
        "    model.add(BatchNorm())\n",
        "    model.add(Dropout(0.3))\n",
        "    model.add(Dense(n_vocab))\n",
        "    model.add(Activation('sigmoid'))\n",
        "    model.compile(loss='categorical_crossentropy', optimizer=RMSprop(learning_rate=0.00000013))\n",
        "\n",
        "    return model\n"
      ],
      "execution_count": 19,
      "outputs": []
    },
    {
      "cell_type": "code",
      "metadata": {
        "id": "P4K6UyfA0Etx"
      },
      "source": [
        "def train(model, network_input, network_output):\n",
        "    \"\"\" train the neural network \"\"\"\n",
        "    print('Training model...')\n",
        "    filename = \"/content/drive/My Drive/notebooks/music/weights-improvement-{epoch:02d}-{loss:.4f}-bigger.hdf5\"\n",
        "    checkpoint = ModelCheckpoint(\n",
        "        filename,\n",
        "        monitor='loss',\n",
        "        verbose=0,\n",
        "        save_best_only=True\n",
        "    )\n",
        "\n",
        "    callbacks_list = [checkpoint]\n",
        "\n",
        "    model.fit(network_input, network_output, epochs=10, batch_size=50, callbacks=callbacks_list)\n"
      ],
      "execution_count": 20,
      "outputs": []
    },
    {
      "cell_type": "code",
      "metadata": {
        "colab": {
          "base_uri": "https://localhost:8080/"
        },
        "id": "Q_f8RFCW5u4o",
        "outputId": "c93a761c-4403-4235-894e-b6097cd2357c"
      },
      "source": [
        "def train_network(n):\n",
        "    notes = n\n",
        "    print('Glance @ \"notes\" variable used', notes[1:10])\n",
        "    n_vocab = len(set(notes))\n",
        "    print('n_vocab is', n_vocab)\n",
        "    network_input, network_output = prepare_sequences(notes, n_vocab)\n",
        "    model = create_network(network_input, n_vocab)\n",
        "    train(model, network_input, network_output)\n",
        "train_network(n)"
      ],
      "execution_count": 21,
      "outputs": [
        {
          "output_type": "stream",
          "text": [
            "Glance @ \"notes\" variable used ['E-4', 'E4', '4.8', '4.8', 'B3', '8.11', '9.1.4', 'B4', 'E-5']\n",
            "n_vocab is 72\n",
            "Sequence length (window) used 5\n",
            "Dict created note->int {'1': 0, '1.4': 1, '1.6': 2, '11': 3, '11.1.3': 4, '11.3': 5, '11.4': 6, '3': 7, '3.6': 8, '3.8': 9, '3.9': 10, '4': 11, '4.6': 12, '4.8': 13, '6': 14, '6.8': 15, '6.8.11': 16, '6.9': 17, '8': 18, '8.1': 19, '8.11': 20, '8.9': 21, '9': 22, '9.1': 23, '9.1.4': 24, '9.11': 25, 'A1': 26, 'A2': 27, 'A3': 28, 'A4': 29, 'A5': 30, 'A6': 31, 'B-2': 32, 'B-4': 33, 'B-5': 34, 'B1': 35, 'B2': 36, 'B3': 37, 'B4': 38, 'B5': 39, 'B6': 40, 'C#2': 41, 'C#3': 42, 'C#4': 43, 'C#5': 44, 'C#6': 45, 'C#7': 46, 'E-3': 47, 'E-4': 48, 'E-5': 49, 'E-6': 50, 'E-7': 51, 'E1': 52, 'E2': 53, 'E3': 54, 'E4': 55, 'E5': 56, 'E6': 57, 'F#2': 58, 'F#3': 59, 'F#4': 60, 'F#5': 61, 'F#6': 62, 'F3': 63, 'F5': 64, 'G#1': 65, 'G#2': 66, 'G#3': 67, 'G#4': 68, 'G#5': 69, 'G#6': 70, 'G5': 71}\n",
            "Glance @ input [[[0.66666667]\n",
            "  [0.76388889]\n",
            "  [0.18055556]\n",
            "  [0.18055556]\n",
            "  [0.51388889]]\n",
            "\n",
            " [[0.76388889]\n",
            "  [0.18055556]\n",
            "  [0.18055556]\n",
            "  [0.51388889]\n",
            "  [0.27777778]]\n",
            "\n",
            " [[0.18055556]\n",
            "  [0.18055556]\n",
            "  [0.51388889]\n",
            "  [0.27777778]\n",
            "  [0.33333333]]\n",
            "\n",
            " [[0.18055556]\n",
            "  [0.51388889]\n",
            "  [0.27777778]\n",
            "  [0.33333333]\n",
            "  [0.52777778]]\n",
            "\n",
            " [[0.51388889]\n",
            "  [0.27777778]\n",
            "  [0.33333333]\n",
            "  [0.52777778]\n",
            "  [0.68055556]]\n",
            "\n",
            " [[0.27777778]\n",
            "  [0.33333333]\n",
            "  [0.52777778]\n",
            "  [0.68055556]\n",
            "  [0.54166667]]\n",
            "\n",
            " [[0.33333333]\n",
            "  [0.52777778]\n",
            "  [0.68055556]\n",
            "  [0.54166667]\n",
            "  [0.625     ]]\n",
            "\n",
            " [[0.52777778]\n",
            "  [0.68055556]\n",
            "  [0.54166667]\n",
            "  [0.625     ]\n",
            "  [0.77777778]]\n",
            "\n",
            " [[0.68055556]\n",
            "  [0.54166667]\n",
            "  [0.625     ]\n",
            "  [0.77777778]\n",
            "  [0.52777778]]]\n",
            "Glance @ output [[0. 0. 0. 0. 0. 0. 0. 0. 0. 0. 0. 0. 0. 0. 0. 0. 0. 0. 0. 0. 1. 0. 0. 0.\n",
            "  0. 0. 0. 0. 0. 0. 0. 0. 0. 0. 0. 0. 0. 0. 0. 0. 0. 0. 0. 0. 0. 0. 0. 0.\n",
            "  0. 0. 0. 0. 0. 0. 0. 0. 0. 0. 0. 0. 0. 0. 0. 0. 0. 0. 0. 0. 0. 0. 0. 0.]\n",
            " [0. 0. 0. 0. 0. 0. 0. 0. 0. 0. 0. 0. 0. 0. 0. 0. 0. 0. 0. 0. 0. 0. 0. 0.\n",
            "  1. 0. 0. 0. 0. 0. 0. 0. 0. 0. 0. 0. 0. 0. 0. 0. 0. 0. 0. 0. 0. 0. 0. 0.\n",
            "  0. 0. 0. 0. 0. 0. 0. 0. 0. 0. 0. 0. 0. 0. 0. 0. 0. 0. 0. 0. 0. 0. 0. 0.]\n",
            " [0. 0. 0. 0. 0. 0. 0. 0. 0. 0. 0. 0. 0. 0. 0. 0. 0. 0. 0. 0. 0. 0. 0. 0.\n",
            "  0. 0. 0. 0. 0. 0. 0. 0. 0. 0. 0. 0. 0. 0. 1. 0. 0. 0. 0. 0. 0. 0. 0. 0.\n",
            "  0. 0. 0. 0. 0. 0. 0. 0. 0. 0. 0. 0. 0. 0. 0. 0. 0. 0. 0. 0. 0. 0. 0. 0.]\n",
            " [0. 0. 0. 0. 0. 0. 0. 0. 0. 0. 0. 0. 0. 0. 0. 0. 0. 0. 0. 0. 0. 0. 0. 0.\n",
            "  0. 0. 0. 0. 0. 0. 0. 0. 0. 0. 0. 0. 0. 0. 0. 0. 0. 0. 0. 0. 0. 0. 0. 0.\n",
            "  0. 1. 0. 0. 0. 0. 0. 0. 0. 0. 0. 0. 0. 0. 0. 0. 0. 0. 0. 0. 0. 0. 0. 0.]\n",
            " [0. 0. 0. 0. 0. 0. 0. 0. 0. 0. 0. 0. 0. 0. 0. 0. 0. 0. 0. 0. 0. 0. 0. 0.\n",
            "  0. 0. 0. 0. 0. 0. 0. 0. 0. 0. 0. 0. 0. 0. 0. 1. 0. 0. 0. 0. 0. 0. 0. 0.\n",
            "  0. 0. 0. 0. 0. 0. 0. 0. 0. 0. 0. 0. 0. 0. 0. 0. 0. 0. 0. 0. 0. 0. 0. 0.]\n",
            " [0. 0. 0. 0. 0. 0. 0. 0. 0. 0. 0. 0. 0. 0. 0. 0. 0. 0. 0. 0. 0. 0. 0. 0.\n",
            "  0. 0. 0. 0. 0. 0. 0. 0. 0. 0. 0. 0. 0. 0. 0. 0. 0. 0. 0. 0. 0. 1. 0. 0.\n",
            "  0. 0. 0. 0. 0. 0. 0. 0. 0. 0. 0. 0. 0. 0. 0. 0. 0. 0. 0. 0. 0. 0. 0. 0.]\n",
            " [0. 0. 0. 0. 0. 0. 0. 0. 0. 0. 0. 0. 0. 0. 0. 0. 0. 0. 0. 0. 0. 0. 0. 0.\n",
            "  0. 0. 0. 0. 0. 0. 0. 0. 0. 0. 0. 0. 0. 0. 0. 0. 0. 0. 0. 0. 0. 0. 0. 0.\n",
            "  0. 0. 0. 0. 0. 0. 0. 0. 1. 0. 0. 0. 0. 0. 0. 0. 0. 0. 0. 0. 0. 0. 0. 0.]\n",
            " [0. 0. 0. 0. 0. 0. 0. 0. 0. 0. 0. 0. 0. 0. 0. 0. 0. 0. 0. 0. 0. 0. 0. 0.\n",
            "  0. 0. 0. 0. 0. 0. 0. 0. 0. 0. 0. 0. 0. 0. 1. 0. 0. 0. 0. 0. 0. 0. 0. 0.\n",
            "  0. 0. 0. 0. 0. 0. 0. 0. 0. 0. 0. 0. 0. 0. 0. 0. 0. 0. 0. 0. 0. 0. 0. 0.]\n",
            " [0. 0. 0. 0. 0. 0. 0. 0. 0. 0. 0. 0. 0. 0. 0. 0. 0. 0. 0. 0. 0. 0. 0. 0.\n",
            "  0. 0. 0. 0. 0. 0. 0. 0. 0. 0. 0. 0. 0. 0. 0. 0. 0. 0. 0. 0. 0. 0. 0. 0.\n",
            "  0. 0. 0. 0. 0. 0. 0. 0. 0. 0. 0. 0. 0. 0. 0. 0. 0. 0. 0. 1. 0. 0. 0. 0.]]\n",
            "Creating structure of LSTM\n",
            "Training model...\n",
            "Epoch 1/10\n",
            "9/9 [==============================] - 4s 16ms/step - loss: 5.0994\n",
            "Epoch 2/10\n",
            "9/9 [==============================] - 0s 16ms/step - loss: 5.0588\n",
            "Epoch 3/10\n",
            "9/9 [==============================] - 0s 19ms/step - loss: 5.0129\n",
            "Epoch 4/10\n",
            "9/9 [==============================] - 0s 16ms/step - loss: 5.0697\n",
            "Epoch 5/10\n",
            "9/9 [==============================] - 0s 16ms/step - loss: 4.9592\n",
            "Epoch 6/10\n",
            "9/9 [==============================] - 0s 16ms/step - loss: 5.1122\n",
            "Epoch 7/10\n",
            "9/9 [==============================] - 0s 17ms/step - loss: 4.9587\n",
            "Epoch 8/10\n",
            "9/9 [==============================] - 0s 16ms/step - loss: 5.0638\n",
            "Epoch 9/10\n",
            "9/9 [==============================] - 0s 18ms/step - loss: 5.1557\n",
            "Epoch 10/10\n",
            "9/9 [==============================] - 0s 19ms/step - loss: 5.0964\n"
          ],
          "name": "stdout"
        }
      ]
    },
    {
      "cell_type": "markdown",
      "metadata": {
        "id": "iBH2JdJB18L4"
      },
      "source": [
        "# Generate notes"
      ]
    },
    {
      "cell_type": "code",
      "metadata": {
        "id": "VoF3z9h20Eep"
      },
      "source": [
        "from keras.models import Sequential\n",
        "from keras.layers import Dense\n",
        "from keras.layers import Dropout\n",
        "from keras.layers import LSTM\n",
        "from keras.layers import Activation\n",
        "from keras.layers import BatchNormalization as BatchNorm"
      ],
      "execution_count": 9,
      "outputs": []
    },
    {
      "cell_type": "code",
      "metadata": {
        "id": "tmOCeyHQ0ERk"
      },
      "source": [
        "def prepare_sequences(notes, pitchnames, n_vocab):\n",
        "    \"\"\" Prepare the sequences used by the Neural Network \"\"\"\n",
        "    # map between notes and integers and back\n",
        "    note_to_int = dict((note, number) for number, note in enumerate(pitchnames))\n",
        "\n",
        "    sequence_length = 100\n",
        "    network_input = []\n",
        "    output = []\n",
        "    for i in range(0, len(notes) - sequence_length, 1):\n",
        "        sequence_in = notes[i:i + sequence_length]\n",
        "        sequence_out = notes[i + sequence_length]\n",
        "        network_input.append([note_to_int[char] for char in sequence_in])\n",
        "        output.append(note_to_int[sequence_out])\n",
        "\n",
        "    n_patterns = len(network_input)\n",
        "\n",
        "    # reshape the input into a format compatible with LSTM layers\n",
        "    normalized_input = np.reshape(network_input, (n_patterns, sequence_length, 1))\n",
        "    # normalize input\n",
        "    normalized_input = normalized_input / float(n_vocab)\n",
        "\n",
        "    return (network_input, normalized_input)"
      ],
      "execution_count": 10,
      "outputs": []
    },
    {
      "cell_type": "code",
      "metadata": {
        "id": "bZ_Smyc92Cw2"
      },
      "source": [
        "def create_network(network_input, n_vocab):\n",
        "    \"\"\" create the structure of the neural network \"\"\"\n",
        "    model = Sequential()\n",
        "    model.add(LSTM(\n",
        "        100,\n",
        "        input_shape=(network_input.shape[1], network_input.shape[2]),\n",
        "        recurrent_dropout=0.7,\n",
        "        return_sequences=True\n",
        "    ))\n",
        "    model.add(LSTM(100))\n",
        "    model.add(BatchNorm())\n",
        "    model.add(Dropout(0.3))\n",
        "    model.add(Dense(256))\n",
        "    model.add(Activation('relu'))\n",
        "    model.add(BatchNorm())\n",
        "    model.add(Dropout(0.3))\n",
        "    model.add(Dense(n_vocab))\n",
        "    model.add(Activation('sigmoid'))\n",
        "    model.compile(loss='categorical_crossentropy', optimizer=RMSprop(learning_rate=0.00000013))\n",
        "    \n",
        "    # Load the weights to each node\n",
        "    model.load_weights('/content/drive/My Drive/notebooks/music/weights-improvement-01-5.3044-bigger.hdf5')\n",
        "\n",
        "    return model"
      ],
      "execution_count": 11,
      "outputs": []
    },
    {
      "cell_type": "code",
      "metadata": {
        "id": "3emmB30m2Cuf"
      },
      "source": [
        "def generate_notes(model, network_input, pitchnames, n_vocab):\n",
        "    \"\"\" Generate notes from the neural network based on a sequence of notes \"\"\"\n",
        "    # pick a random sequence from the input as a starting point for the prediction\n",
        "    start = np.random.randint(0, len(network_input)-1)\n",
        "\n",
        "    int_to_note = dict((number, note) for number, note in enumerate(pitchnames))\n",
        "\n",
        "    pattern = network_input[start]\n",
        "    prediction_output = []\n",
        "\n",
        "    # generate 500 notes\n",
        "    for note_index in range(500):\n",
        "        prediction_input = np.reshape(pattern, (1, len(pattern), 1))\n",
        "        prediction_input = prediction_input / float(n_vocab)\n",
        "\n",
        "        prediction = model.predict(prediction_input, verbose=0)\n",
        "\n",
        "        index = np.argmax(prediction)\n",
        "        #index = np.argmax(prediction)[0]\n",
        "\n",
        "        result = int_to_note[index]\n",
        "        prediction_output.append(result)\n",
        "\n",
        "        pattern.append(index)\n",
        "        pattern = pattern[1:len(pattern)]\n",
        "\n",
        "    return prediction_output"
      ],
      "execution_count": 12,
      "outputs": []
    },
    {
      "cell_type": "code",
      "metadata": {
        "id": "rHaqEXIZ2CsJ"
      },
      "source": [
        "def create_midi(prediction_output):\n",
        "    \"\"\" convert the output from the prediction to notes and create a midi file\n",
        "        from the notes \"\"\"\n",
        "    offset = 0\n",
        "    output_notes = []\n",
        "\n",
        "    # create note and chord objects based on the values generated by the model\n",
        "    for pattern in prediction_output:\n",
        "        # pattern is a chord\n",
        "        if ('.' in pattern) or pattern.isdigit():\n",
        "            notes_in_chord = pattern.split('.')\n",
        "            notes = []\n",
        "            for current_note in notes_in_chord:\n",
        "                new_note = note.Note(int(current_note))\n",
        "                new_note.storedInstrument = instrument.Piano()\n",
        "                notes.append(new_note)\n",
        "            new_chord = chord.Chord(notes)\n",
        "            new_chord.offset = offset\n",
        "            output_notes.append(new_chord)\n",
        "        # pattern is a note\n",
        "        else:\n",
        "            new_note = note.Note(pattern)\n",
        "            new_note.offset = offset\n",
        "            new_note.storedInstrument = instrument.Piano()\n",
        "            output_notes.append(new_note)\n",
        "\n",
        "        # increase offset each iteration so that notes do not stack\n",
        "        offset += 0.5\n",
        "\n",
        "    midi_stream = stream.Stream(output_notes)\n",
        "    #midi_stream.write('midi', fp='/content/drive/My Drive/notebooks/music/test_507pm_Weds.mid')\n",
        "    return midi_stream"
      ],
      "execution_count": 13,
      "outputs": []
    },
    {
      "cell_type": "code",
      "metadata": {
        "id": "pUPF5vvP2Cp6"
      },
      "source": [
        "def generate(notes):\n",
        "    \"\"\" Generate a piano midi file \"\"\"\n",
        "    #load the notes used to train the model\n",
        "    notes = notes\n",
        "\n",
        "    # Get all pitch names\n",
        "    pitchnames = sorted(set(item for item in notes))\n",
        "    # Get all pitch names\n",
        "    n_vocab = len(set(notes))\n",
        "\n",
        "    network_input, normalized_input = prepare_sequences(notes, pitchnames, n_vocab)\n",
        "    model = create_network(normalized_input, n_vocab)\n",
        "    prediction_output = generate_notes(model, network_input, pitchnames, n_vocab)\n",
        "    midi_stream = create_midi(prediction_output)\n",
        "    return midi_stream"
      ],
      "execution_count": 14,
      "outputs": []
    },
    {
      "cell_type": "code",
      "metadata": {
        "id": "ODXsN-s750sG"
      },
      "source": [
        "midi_stream = generate(n)"
      ],
      "execution_count": 15,
      "outputs": []
    },
    {
      "cell_type": "code",
      "metadata": {
        "colab": {
          "base_uri": "https://localhost:8080/",
          "height": 17
        },
        "id": "bVhhnb5a2Cna",
        "outputId": "89226e6b-6a34-4d5b-d9e1-5929af1064bb"
      },
      "source": [
        "from google.colab import files\n",
        "files.download(midi_stream.write('midi', fp='/content/drive/My Drive/notebooks/music/LSTM_839am_Wed.mid'))"
      ],
      "execution_count": 16,
      "outputs": [
        {
          "output_type": "display_data",
          "data": {
            "application/javascript": [
              "\n",
              "    async function download(id, filename, size) {\n",
              "      if (!google.colab.kernel.accessAllowed) {\n",
              "        return;\n",
              "      }\n",
              "      const div = document.createElement('div');\n",
              "      const label = document.createElement('label');\n",
              "      label.textContent = `Downloading \"${filename}\": `;\n",
              "      div.appendChild(label);\n",
              "      const progress = document.createElement('progress');\n",
              "      progress.max = size;\n",
              "      div.appendChild(progress);\n",
              "      document.body.appendChild(div);\n",
              "\n",
              "      const buffers = [];\n",
              "      let downloaded = 0;\n",
              "\n",
              "      const channel = await google.colab.kernel.comms.open(id);\n",
              "      // Send a message to notify the kernel that we're ready.\n",
              "      channel.send({})\n",
              "\n",
              "      for await (const message of channel.messages) {\n",
              "        // Send a message to notify the kernel that we're ready.\n",
              "        channel.send({})\n",
              "        if (message.buffers) {\n",
              "          for (const buffer of message.buffers) {\n",
              "            buffers.push(buffer);\n",
              "            downloaded += buffer.byteLength;\n",
              "            progress.value = downloaded;\n",
              "          }\n",
              "        }\n",
              "      }\n",
              "      const blob = new Blob(buffers, {type: 'application/binary'});\n",
              "      const a = document.createElement('a');\n",
              "      a.href = window.URL.createObjectURL(blob);\n",
              "      a.download = filename;\n",
              "      div.appendChild(a);\n",
              "      a.click();\n",
              "      div.remove();\n",
              "    }\n",
              "  "
            ],
            "text/plain": [
              "<IPython.core.display.Javascript object>"
            ]
          },
          "metadata": {
            "tags": []
          }
        },
        {
          "output_type": "display_data",
          "data": {
            "application/javascript": [
              "download(\"download_d05e4184-1bed-44a4-9274-b8dc0f89351f\", \"LSTM_839am_Wed.mid\", 4536)"
            ],
            "text/plain": [
              "<IPython.core.display.Javascript object>"
            ]
          },
          "metadata": {
            "tags": []
          }
        }
      ]
    },
    {
      "cell_type": "code",
      "metadata": {
        "id": "i0n90Guz2Ckr"
      },
      "source": [
        ""
      ],
      "execution_count": null,
      "outputs": []
    },
    {
      "cell_type": "code",
      "metadata": {
        "id": "peg5PAFd2CfE"
      },
      "source": [
        ""
      ],
      "execution_count": null,
      "outputs": []
    },
    {
      "cell_type": "code",
      "metadata": {
        "id": "UGoF_tsm2CW6"
      },
      "source": [
        ""
      ],
      "execution_count": null,
      "outputs": []
    }
  ]
}